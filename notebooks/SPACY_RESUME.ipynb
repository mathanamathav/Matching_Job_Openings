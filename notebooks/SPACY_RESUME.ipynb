{
  "nbformat": 4,
  "nbformat_minor": 0,
  "metadata": {
    "colab": {
      "provenance": []
    },
    "kernelspec": {
      "name": "python3",
      "display_name": "Python 3"
    },
    "language_info": {
      "name": "python"
    }
  },
  "cells": [
    {
      "cell_type": "code",
      "execution_count": null,
      "metadata": {
        "colab": {
          "base_uri": "https://localhost:8080/"
        },
        "id": "4BD6RERSNib6",
        "outputId": "74fdf869-4234-48c3-b514-d8b2c4bb2bab"
      },
      "outputs": [
        {
          "output_type": "stream",
          "name": "stderr",
          "text": [
            "[nltk_data] Downloading package stopwords to /root/nltk_data...\n",
            "[nltk_data]   Unzipping corpora/stopwords.zip.\n",
            "[nltk_data] Downloading package wordnet to /root/nltk_data...\n"
          ]
        }
      ],
      "source": [
        "import spacy\n",
        "from spacy.pipeline import EntityRuler\n",
        "from spacy.lang.en import English\n",
        "from spacy.tokens import Doc\n",
        "\n",
        "#gensim\n",
        "import gensim\n",
        "from gensim import corpora\n",
        "\n",
        "#Visualization\n",
        "from spacy import displacy\n",
        "\n",
        "from wordcloud import WordCloud\n",
        "import plotly.express as px\n",
        "import matplotlib.pyplot as plt\n",
        "\n",
        "#Data loading/ Data manipulation\n",
        "import pandas as pd\n",
        "import numpy as np\n",
        "\n",
        "\n",
        "#nltk\n",
        "import re\n",
        "import nltk\n",
        "from nltk.corpus import stopwords\n",
        "from nltk.stem import WordNetLemmatizer\n",
        "nltk.download(['stopwords','wordnet'])\n",
        "\n",
        "#warning\n",
        "import warnings\n",
        "warnings.filterwarnings('ignore')"
      ]
    },
    {
      "cell_type": "code",
      "source": [
        "!python -m spacy download en_core_web_lg -q"
      ],
      "metadata": {
        "id": "mN--xFRhNvaw"
      },
      "execution_count": null,
      "outputs": []
    },
    {
      "cell_type": "code",
      "source": [
        "nlp = spacy.load(\"en_core_web_lg\")\n",
        "skill_pattern_path = \"jz_skill_patterns.jsonl\""
      ],
      "metadata": {
        "id": "hJo5TG26Njmr"
      },
      "execution_count": null,
      "outputs": []
    },
    {
      "cell_type": "code",
      "source": [
        "ruler = nlp.add_pipe(\"entity_ruler\")\n",
        "ruler.from_disk(skill_pattern_path)\n",
        "nlp.pipe_names"
      ],
      "metadata": {
        "colab": {
          "base_uri": "https://localhost:8080/"
        },
        "id": "gFl90NSzNn5q",
        "outputId": "cda8bf26-05a2-4b06-c69b-bcac53672ce4"
      },
      "execution_count": null,
      "outputs": [
        {
          "output_type": "execute_result",
          "data": {
            "text/plain": [
              "['tok2vec',\n",
              " 'tagger',\n",
              " 'parser',\n",
              " 'attribute_ruler',\n",
              " 'lemmatizer',\n",
              " 'ner',\n",
              " 'entity_ruler']"
            ]
          },
          "metadata": {},
          "execution_count": 10
        }
      ]
    },
    {
      "cell_type": "code",
      "source": [
        "def get_skills(text):\n",
        "    doc = nlp(text)\n",
        "    myset = []\n",
        "    subset = []\n",
        "    for ent in doc.ents:\n",
        "        if ent.label_ == \"SKILL\":\n",
        "            subset.append(ent.text)\n",
        "    myset.append(subset)\n",
        "    return subset\n",
        "\n",
        "\n",
        "def unique_skills(x):\n",
        "    return list(set(x))"
      ],
      "metadata": {
        "id": "lMhe8DHAOLYL"
      },
      "execution_count": null,
      "outputs": []
    },
    {
      "cell_type": "code",
      "source": [
        "req_skills = input_skills.lower().split(\",\")"
      ],
      "metadata": {
        "id": "HccfCwB4PHfT"
      },
      "execution_count": null,
      "outputs": []
    },
    {
      "cell_type": "code",
      "source": [
        "!pip"
      ],
      "metadata": {
        "id": "j65keanpPi-t"
      },
      "execution_count": null,
      "outputs": []
    },
    {
      "cell_type": "code",
      "source": [
        "pip install PyPDF2"
      ],
      "metadata": {
        "colab": {
          "base_uri": "https://localhost:8080/"
        },
        "id": "a0DFxE31PvYO",
        "outputId": "2693eb97-97a9-4290-bf66-b01df13cacb7"
      },
      "execution_count": null,
      "outputs": [
        {
          "output_type": "stream",
          "name": "stdout",
          "text": [
            "Collecting PyPDF2\n",
            "  Downloading pypdf2-3.0.1-py3-none-any.whl (232 kB)\n",
            "\u001b[2K     \u001b[90m━━━━━━━━━━━━━━━━━━━━━━━━━━━━━━━━━━━━━━━\u001b[0m \u001b[32m232.6/232.6 kB\u001b[0m \u001b[31m3.6 MB/s\u001b[0m eta \u001b[36m0:00:00\u001b[0m\n",
            "\u001b[?25hInstalling collected packages: PyPDF2\n",
            "Successfully installed PyPDF2-3.0.1\n"
          ]
        }
      ]
    },
    {
      "cell_type": "code",
      "source": [
        "import PyPDF2"
      ],
      "metadata": {
        "id": "0kJcdY7SPd7N"
      },
      "execution_count": null,
      "outputs": []
    },
    {
      "cell_type": "code",
      "source": [
        "resume_path = '/content/Resume Original.pdf'\n",
        "import PyPDF2\n",
        "import re\n",
        "\n",
        "# Open the PDF file in binary read mode\n",
        "with open(resume_path, 'rb') as pdf_file:\n",
        "    # Create a PDF reader object\n",
        "    pdf_reader = PyPDF2.PdfReader(pdf_file)\n",
        "\n",
        "    # Initialize an empty string to store extracted text\n",
        "    extracted_text = ''\n",
        "\n",
        "    # Define a regular expression pattern to match non-printable characters\n",
        "    non_printable_pattern = re.compile(r'[^\\x20-\\x7E]+')\n",
        "\n",
        "    # Loop through each page in the PDF\n",
        "    for page_num in range(len(pdf_reader.pages)):\n",
        "        # Get the text content of the page\n",
        "        page = pdf_reader.pages[page_num]\n",
        "        page_text = page.extract_text()\n",
        "\n",
        "        # Remove or replace non-printable characters\n",
        "        page_text_cleaned = non_printable_pattern.sub(' ', page_text)\n",
        "        words = page_text_cleaned.split()\n",
        "        text_with_spaces = ' '.join(words)\n",
        "\n",
        "        # Append the cleaned page text to the extracted_text string\n",
        "        extracted_text += text_with_spaces"
      ],
      "metadata": {
        "id": "JXUTEs5YPMEr"
      },
      "execution_count": null,
      "outputs": []
    },
    {
      "cell_type": "code",
      "source": [
        "res = extracted_text.split()\n",
        "lm = WordNetLemmatizer()\n",
        "review = [\n",
        "    lm.lemmatize(word)\n",
        "        for word in res\n",
        "        if not word in set(stopwords.words(\"english\"))\n",
        "]\n",
        "review = \" \".join(review)\n"
      ],
      "metadata": {
        "id": "jTS5xJa2VPc3"
      },
      "execution_count": null,
      "outputs": []
    },
    {
      "cell_type": "code",
      "source": [
        "review"
      ],
      "metadata": {
        "colab": {
          "base_uri": "https://localhost:8080/",
          "height": 140
        },
        "id": "b08uu_SqVfmC",
        "outputId": "781033a3-7567-407d-8e5c-08526b1f2eda"
      },
      "execution_count": null,
      "outputs": [
        {
          "output_type": "execute_result",
          "data": {
            "text/plain": [
              "'JEGADEESHMANICKAMMS19PD15 GenderDateofBirthLanguag esknownEmailGithubLinkedInMobileMale3rdAugust2001English,Tamil19pd15@p sgtech.ac.ingithub.c om/jegadeesh2001linkedin.com/in/jeg adeesh+91-63749-27353 Address1/45,TWADColony,3rdstreet,Thirupalai,Madurai-625014 OBJECTIVE ToobtainapositionasastudentinternfromDecember2023toMay2024. ACADEMICQUALIFICATION Currentlypursuing5thyearofa5-yearIntegratedM.Sc.DataScienceattheDepartmen tofAppliedMathematicsandComput ationalSciencesatPSGCollegeofTechnology . SKILLSET Languag esPython,C++,C,R,JavaScript Back-EndNodeJs,PHP,SQL,MongoDB,CosmosDB PlatformWindows,Linux ToolsTableau,Azure,AWS,PowerBI,Excel,Git,Flutter,Wireshark AREASOFINTEREST ObjectOrientedProgramming MachineLearning DeepLearning DatabaseManagementSystem ACADEMICRECORD M.ScDataSciencePSGCollegeofTechnology ,Coimbatore2 0 1 9 - 2 0 2 48.45CGPA XII(HigherSecondary,CBSE)MahatmaCBSESchool,Madurai2 0 1 993.00% X(SSLC,CBSE)MahatmaCBSESchool,Madurai2 0 1 795.00% NON-ACADEMICPROJECTS AirSense,awebapplicationbuilttoforecasttheAirQualityIndexandTemperatureoftier-2citiesofTelanganaasapartofanacademicgrandchalleng econductedbytheTelanganagovernmen t.VariousstatisticaltimeseriesmodelswerefittedforeachcityandthebestmodelwasselectedusingRMSEtogenerateforecastsfortheupcomingyear.ThefrontendoftheapplicationwasbuiltusingstreamlitandtheAPIendpoin tswasdefinedusingFlaskwhichwasdeployedinanAWSEC2instance.Clima,anapplicationbuiltusingFluttertodetectthetemperatureofthecurrentcityoranygivencitybyusingAPIcallstoOpenWeatherMap.Weatherdatafetchedbytheapplicationisrefreshedwhentheusergivesinputoropenstheapplication. INDUSTRYEXPERIENCE Buckman|DataAnalyst(Jun2022-Dec2022)Connect edPlanning ,workedonforecastingthecustomerdemandfordifferentchemicalproductsattheproductionlevelandsaleslevelusingvarioustimeseriesmodelsbasedonhistoricalpurchasedata.Thesolutionhelpedinefficientinventoryandsalesmanagementwithincreasedforecastingaccuracy. ACADEMICPROJECTS PicPhrase,astreamlitapplicationdevelopedtounderstandthevisualsurroundingbycaptioningtheimagegivenbytheuser.Thecaptioningoftheimagewasbasedonanencoder-decodermodeltrainedusingCNNandLSTM.FeaturesfromtheimagewereextractedusingCNNandpassedontoLSTMforsentenceconstruction.TheextractedcaptionwasreadouttotheuserusingSpeechtoTextAPIfromGoogle. MedSnap,astreamlitapplicationdevelopedtoextractessentialinformationfromtabletimagesgivenbyuser.AnnotateddatarepositorywascreatedbyscrapingtabletimagesfromwebusingBeautifulSoupandthecorrespondingtextwasextractedusingPaddleOCR.ThefinalannotationofthetextfromimagewasbasedonNamedEntityRecognitionmodeltrainedusingspacy. Sentimetrics,implemen tedbyfittingNaiveBayes,Perceptron,SVM,andLogisticRegressiononthesentiment-140dataset.Fromtheabove-fittedmodels,LogisticRegressionwaschosenasthebestmodelbasedonevaluationmeasures.Themodelhasbeendeployedusingstreamlittopredictwhetheragiventweetispositiveornegative. RemoteControl,implemen tedusingTCPsocketstocontroltheclientfromtheserversystem.Byusinguser-definedcommandstheclient skeylogsandscreenshotsofthepagecanbecapturedandfilescanbesenttotheclientandothershellcommandscanbeexecuted. AviationAcciden ts,acasestudyanalysisdoneinPythonusingPlotly,Seaborn,andMatplotlibtoanalyzethecauseandthelocationofairplanecrashes.GroupingofsimilarcausestocrashwasdonebyK-meansClustering.ADashboar dwascreatedusingDashtodisplaythecharts. EXTRA-CURRICULARACTIVITIESANDACHIEVEMENT S Runner-upinintra-collegehackathonconductedbythecodingclubatPSGCollegeofTechnology . TheteamwasselectedasoneoftheTop60teamsacrossthecountryinagrandacademicchalleng econductedbytheTelanganagovernmen t. CompletedFlutter-CompleteBootcamp,acourseofferedbyUdemyinJuly2021. MemberoftheEntrepreneur sClubatPSGCollegeofTechnology . DECLARATION I,JegadeeshManickamMS,doherebyconfirmthattheinformationgivenaboveistruetothebestofmyknowledge. Place:CoimbatoreDate:01/07/2023(JegadeeshManickamMS)'"
            ],
            "application/vnd.google.colaboratory.intrinsic+json": {
              "type": "string"
            }
          },
          "metadata": {},
          "execution_count": 43
        }
      ]
    },
    {
      "cell_type": "code",
      "source": [
        "sent2 = nlp(review.lower())\n",
        "displacy.render(sent2, style=\"ent\", jupyter=True, options=options)"
      ],
      "metadata": {
        "colab": {
          "base_uri": "https://localhost:8080/",
          "height": 947
        },
        "id": "TogRRjnSVheF",
        "outputId": "d8578105-dbf4-4881-dd30-3273844e46a4"
      },
      "execution_count": null,
      "outputs": [
        {
          "output_type": "display_data",
          "data": {
            "text/plain": [
              "<IPython.core.display.HTML object>"
            ],
            "text/html": [
              "<span class=\"tex2jax_ignore\"><div class=\"entities\" style=\"line-height: 2.5; direction: ltr\">\n",
              "<mark class=\"entity\" style=\"background: #e06666; padding: 0.45em 0.6em; margin: 0 0.25em; line-height: 1; border-radius: 0.35em;\">\n",
              "    jegadeeshmanickamms19pd15 genderdateofbirthlanguag\n",
              "    <span style=\"font-size: 0.8em; font-weight: bold; line-height: 1; border-radius: 0.35em; vertical-align: middle; margin-left: 0.5rem\">PERSON</span>\n",
              "</mark>\n",
              " esknownemailgithublinkedinmobilemale3rdaugust2001english,tamil19pd15@p sgtech.ac.ingithub.c om/jegadeesh2001linkedin.com/in/jeg adeesh+91-63749-27353 address1/45,twadcolony,3rdstreet,thirupalai,madurai-625014 objective toobtainapositionasastudentinternfromdecember2023tomay2024. \n",
              "<mark class=\"entity\" style=\"background: #ffd966; padding: 0.45em 0.6em; margin: 0 0.25em; line-height: 1; border-radius: 0.35em;\">\n",
              "    academicqualification currentlypursuing5thyearofa5-yearintegratedm.sc.datascienceatthedepartmen tofappliedmathematicsandcomput ationalsciencesatpsgcollegeoftechnology\n",
              "    <span style=\"font-size: 0.8em; font-weight: bold; line-height: 1; border-radius: 0.35em; vertical-align: middle; margin-left: 0.5rem\">ORG</span>\n",
              "</mark>\n",
              " . \n",
              "<mark class=\"entity\" style=\"background: #e06666; padding: 0.45em 0.6em; margin: 0 0.25em; line-height: 1; border-radius: 0.35em;\">\n",
              "    skillset languag espython\n",
              "    <span style=\"font-size: 0.8em; font-weight: bold; line-height: 1; border-radius: 0.35em; vertical-align: middle; margin-left: 0.5rem\">PERSON</span>\n",
              "</mark>\n",
              ",\n",
              "<mark class=\"entity\" style=\"background: #9fc5e8; padding: 0.45em 0.6em; margin: 0 0.25em; line-height: 1; border-radius: 0.35em;\">\n",
              "    c++,c\n",
              "    <span style=\"font-size: 0.8em; font-weight: bold; line-height: 1; border-radius: 0.35em; vertical-align: middle; margin-left: 0.5rem\">GPE</span>\n",
              "</mark>\n",
              ",r,\n",
              "<mark class=\"entity\" style=\"background: linear-gradient(90deg, #9BE15D, #00E3AE); padding: 0.45em 0.6em; margin: 0 0.25em; line-height: 1; border-radius: 0.35em;\">\n",
              "    javascript\n",
              "    <span style=\"font-size: 0.8em; font-weight: bold; line-height: 1; border-radius: 0.35em; vertical-align: middle; margin-left: 0.5rem\">SKILL</span>\n",
              "</mark>\n",
              " back-endnodejs,php,\n",
              "<mark class=\"entity\" style=\"background: #ffd966; padding: 0.45em 0.6em; margin: 0 0.25em; line-height: 1; border-radius: 0.35em;\">\n",
              "    sql\n",
              "    <span style=\"font-size: 0.8em; font-weight: bold; line-height: 1; border-radius: 0.35em; vertical-align: middle; margin-left: 0.5rem\">ORG</span>\n",
              "</mark>\n",
              ",\n",
              "<mark class=\"entity\" style=\"background: linear-gradient(90deg, #9BE15D, #00E3AE); padding: 0.45em 0.6em; margin: 0 0.25em; line-height: 1; border-radius: 0.35em;\">\n",
              "    mongodb\n",
              "    <span style=\"font-size: 0.8em; font-weight: bold; line-height: 1; border-radius: 0.35em; vertical-align: middle; margin-left: 0.5rem\">SKILL</span>\n",
              "</mark>\n",
              ",cosmosdb platformwindows,\n",
              "<mark class=\"entity\" style=\"background: #ffd966; padding: 0.45em 0.6em; margin: 0 0.25em; line-height: 1; border-radius: 0.35em;\">\n",
              "    linux toolstableau\n",
              "    <span style=\"font-size: 0.8em; font-weight: bold; line-height: 1; border-radius: 0.35em; vertical-align: middle; margin-left: 0.5rem\">ORG</span>\n",
              "</mark>\n",
              ",\n",
              "<mark class=\"entity\" style=\"background: #9fc5e8; padding: 0.45em 0.6em; margin: 0 0.25em; line-height: 1; border-radius: 0.35em;\">\n",
              "    azure\n",
              "    <span style=\"font-size: 0.8em; font-weight: bold; line-height: 1; border-radius: 0.35em; vertical-align: middle; margin-left: 0.5rem\">GPE</span>\n",
              "</mark>\n",
              ",\n",
              "<mark class=\"entity\" style=\"background: #9fc5e8; padding: 0.45em 0.6em; margin: 0 0.25em; line-height: 1; border-radius: 0.35em;\">\n",
              "    aws\n",
              "    <span style=\"font-size: 0.8em; font-weight: bold; line-height: 1; border-radius: 0.35em; vertical-align: middle; margin-left: 0.5rem\">GPE</span>\n",
              "</mark>\n",
              ",\n",
              "<mark class=\"entity\" style=\"background: #ffd966; padding: 0.45em 0.6em; margin: 0 0.25em; line-height: 1; border-radius: 0.35em;\">\n",
              "    powerbi\n",
              "    <span style=\"font-size: 0.8em; font-weight: bold; line-height: 1; border-radius: 0.35em; vertical-align: middle; margin-left: 0.5rem\">ORG</span>\n",
              "</mark>\n",
              ",excel,\n",
              "<mark class=\"entity\" style=\"background: linear-gradient(90deg, #9BE15D, #00E3AE); padding: 0.45em 0.6em; margin: 0 0.25em; line-height: 1; border-radius: 0.35em;\">\n",
              "    git\n",
              "    <span style=\"font-size: 0.8em; font-weight: bold; line-height: 1; border-radius: 0.35em; vertical-align: middle; margin-left: 0.5rem\">SKILL</span>\n",
              "</mark>\n",
              ",\n",
              "<mark class=\"entity\" style=\"background: linear-gradient(90deg, #9BE15D, #00E3AE); padding: 0.45em 0.6em; margin: 0 0.25em; line-height: 1; border-radius: 0.35em;\">\n",
              "    flutter\n",
              "    <span style=\"font-size: 0.8em; font-weight: bold; line-height: 1; border-radius: 0.35em; vertical-align: middle; margin-left: 0.5rem\">SKILL</span>\n",
              "</mark>\n",
              ",wireshark areasofinterest objectorientedprogramming \n",
              "<mark class=\"entity\" style=\"background: #e06666; padding: 0.45em 0.6em; margin: 0 0.25em; line-height: 1; border-radius: 0.35em;\">\n",
              "    machinelearning deeplearning databasemanagementsystem academicrecord m.scdatasciencepsgcollegeoftechnology\n",
              "    <span style=\"font-size: 0.8em; font-weight: bold; line-height: 1; border-radius: 0.35em; vertical-align: middle; margin-left: 0.5rem\">PERSON</span>\n",
              "</mark>\n",
              " ,coimbatore2 0 1 9 - 2 0 2 48.45cgpa xii(highersecondary,cbse)mahatmacbseschool,madurai2 0 1 993.00% x(sslc,cbse)mahatmacbseschool,madurai2 0 1 795.00% non-academicprojects \n",
              "<mark class=\"entity\" style=\"background: #ffd966; padding: 0.45em 0.6em; margin: 0 0.25em; line-height: 1; border-radius: 0.35em;\">\n",
              "    airsense\n",
              "    <span style=\"font-size: 0.8em; font-weight: bold; line-height: 1; border-radius: 0.35em; vertical-align: middle; margin-left: 0.5rem\">ORG</span>\n",
              "</mark>\n",
              ",\n",
              "<mark class=\"entity\" style=\"background: #e06666; padding: 0.45em 0.6em; margin: 0 0.25em; line-height: 1; border-radius: 0.35em;\">\n",
              "    awebapplicationbuilttoforecasttheairqualityindexandtemperatureoftier-2citiesoftelanganaasapartofanacademicgrandchalleng econductedbythetelanganagovernmen t.variousstatisticaltimeseriesmodelswerefittedforeachcityandthebestmodelwasselectedusingrmsetogenerateforecastsfortheupcomingyear.thefrontendoftheapplicationwasbuiltusingstreamlitandtheapiendpoin\n",
              "    <span style=\"font-size: 0.8em; font-weight: bold; line-height: 1; border-radius: 0.35em; vertical-align: middle; margin-left: 0.5rem\">PERSON</span>\n",
              "</mark>\n",
              " tswasdefinedusingflaskwhichwasdeployedinanawsec2instance.clima,\n",
              "<mark class=\"entity\" style=\"background: #ffd966; padding: 0.45em 0.6em; margin: 0 0.25em; line-height: 1; border-radius: 0.35em;\">\n",
              "    anapplicationbuiltusingfluttertodetectthetemperatureofthecurrentcityoranygivencitybyusingapicallstoopenweathermap.weatherdatafetchedbytheapplicationisrefreshedwhentheusergivesinputoropenstheapplication.\n",
              "    <span style=\"font-size: 0.8em; font-weight: bold; line-height: 1; border-radius: 0.35em; vertical-align: middle; margin-left: 0.5rem\">ORG</span>\n",
              "</mark>\n",
              " \n",
              "<mark class=\"entity\" style=\"background: #e06666; padding: 0.45em 0.6em; margin: 0 0.25em; line-height: 1; border-radius: 0.35em;\">\n",
              "    industryexperience buckman|dataanalyst(jun2022-dec2022)connect\n",
              "    <span style=\"font-size: 0.8em; font-weight: bold; line-height: 1; border-radius: 0.35em; vertical-align: middle; margin-left: 0.5rem\">PERSON</span>\n",
              "</mark>\n",
              " edplanning ,workedonforecastingthecustomerdemandfordifferentchemicalproductsattheproductionlevelandsaleslevelusingvarioustimeseriesmodelsbasedonhistoricalpurchasedata.thesolutionhelpedinefficientinventoryandsalesmanagementwithincreasedforecastingaccuracy. academicprojects \n",
              "<mark class=\"entity\" style=\"background: #ffd966; padding: 0.45em 0.6em; margin: 0 0.25em; line-height: 1; border-radius: 0.35em;\">\n",
              "    picphrase\n",
              "    <span style=\"font-size: 0.8em; font-weight: bold; line-height: 1; border-radius: 0.35em; vertical-align: middle; margin-left: 0.5rem\">ORG</span>\n",
              "</mark>\n",
              ",\n",
              "<mark class=\"entity\" style=\"background: #e06666; padding: 0.45em 0.6em; margin: 0 0.25em; line-height: 1; border-radius: 0.35em;\">\n",
              "    astreamlitapplicationdevelopedtounderstandthevisualsurroundingbycaptioningtheimagegivenbytheuser.thecaptioningoftheimagewasbasedonanencoder-decodermodeltrainedusingcnnandlstm.featuresfromtheimagewereextractedusingcnnandpassedontolstmforsentenceconstruction.theextractedcaptionwasreadouttotheuserusingspeechtotextapifromgoogle\n",
              "    <span style=\"font-size: 0.8em; font-weight: bold; line-height: 1; border-radius: 0.35em; vertical-align: middle; margin-left: 0.5rem\">PERSON</span>\n",
              "</mark>\n",
              ". \n",
              "<mark class=\"entity\" style=\"background: #e06666; padding: 0.45em 0.6em; margin: 0 0.25em; line-height: 1; border-radius: 0.35em;\">\n",
              "    medsnap\n",
              "    <span style=\"font-size: 0.8em; font-weight: bold; line-height: 1; border-radius: 0.35em; vertical-align: middle; margin-left: 0.5rem\">PERSON</span>\n",
              "</mark>\n",
              ",astreamlitapplicationdevelopedtoextractessentialinformationfromtabletimagesgivenbyuser.annotateddatarepositorywascreatedbyscrapingtabletimagesfromwebusingbeautifulsoupandthecorrespondingtextwasextractedusingpaddleocr.thefinalannotationofthetextfromimagewasbasedonnamedentityrecognitionmodeltrainedusingspacy. sentimetrics,implemen \n",
              "<mark class=\"entity\" style=\"background: #ffd966; padding: 0.45em 0.6em; margin: 0 0.25em; line-height: 1; border-radius: 0.35em;\">\n",
              "    tedbyfittingnaivebayes\n",
              "    <span style=\"font-size: 0.8em; font-weight: bold; line-height: 1; border-radius: 0.35em; vertical-align: middle; margin-left: 0.5rem\">ORG</span>\n",
              "</mark>\n",
              ",perceptron,\n",
              "<mark class=\"entity\" style=\"background: #ffd966; padding: 0.45em 0.6em; margin: 0 0.25em; line-height: 1; border-radius: 0.35em;\">\n",
              "    svm\n",
              "    <span style=\"font-size: 0.8em; font-weight: bold; line-height: 1; border-radius: 0.35em; vertical-align: middle; margin-left: 0.5rem\">ORG</span>\n",
              "</mark>\n",
              ",andlogisticregressiononthesentiment-140dataset.fromtheabove-fittedmodels,logisticregressionwaschosenasthebestmodelbasedonevaluationmeasures.themodelhasbeendeployedusingstreamlittopredictwhetheragiventweetispositiveornegative. \n",
              "<mark class=\"entity\" style=\"background: #e06666; padding: 0.45em 0.6em; margin: 0 0.25em; line-height: 1; border-radius: 0.35em;\">\n",
              "    remotecontrol,implemen tedusingtcpsocketstocontroltheclientfromtheserversystem.byusinguser-definedcommandstheclient skeylogsandscreenshotsofthepagecanbecapturedandfilescanbesenttotheclientandothershellcommandscanbeexecuted\n",
              "    <span style=\"font-size: 0.8em; font-weight: bold; line-height: 1; border-radius: 0.35em; vertical-align: middle; margin-left: 0.5rem\">PERSON</span>\n",
              "</mark>\n",
              ". aviationacciden ts,acasestudyanalysisdoneinpythonusingplotly,seaborn,andmatplotlibtoanalyzethecauseandthelocationofairplanecrashes.groupingofsimilarcausestocrashwasdonebyk-meansclustering.adashboar dwascreatedusingdashtodisplaythecharts. extra-curricularactivitiesandachievement s runner-upinintra-collegehackathonconductedbythecodingclubatpsgcollegeoftechnology . \n",
              "<mark class=\"entity\" style=\"background: #ffd966; padding: 0.45em 0.6em; margin: 0 0.25em; line-height: 1; border-radius: 0.35em;\">\n",
              "    theteamwasselectedasoneofthetop60teamsacrossthecountryinagrandacademicchalleng econductedbythetelanganagovernmen t. completedflutter-completebootcamp\n",
              "    <span style=\"font-size: 0.8em; font-weight: bold; line-height: 1; border-radius: 0.35em; vertical-align: middle; margin-left: 0.5rem\">ORG</span>\n",
              "</mark>\n",
              ",\n",
              "<mark class=\"entity\" style=\"background: #ffd966; padding: 0.45em 0.6em; margin: 0 0.25em; line-height: 1; border-radius: 0.35em;\">\n",
              "    acourseofferedbyudemyinjuly2021\n",
              "    <span style=\"font-size: 0.8em; font-weight: bold; line-height: 1; border-radius: 0.35em; vertical-align: middle; margin-left: 0.5rem\">ORG</span>\n",
              "</mark>\n",
              ". \n",
              "<mark class=\"entity\" style=\"background: #ffd966; padding: 0.45em 0.6em; margin: 0 0.25em; line-height: 1; border-radius: 0.35em;\">\n",
              "    memberoftheentrepreneur\n",
              "    <span style=\"font-size: 0.8em; font-weight: bold; line-height: 1; border-radius: 0.35em; vertical-align: middle; margin-left: 0.5rem\">ORG</span>\n",
              "</mark>\n",
              " sclubatpsgcollegeoftechnology . declaration i,\n",
              "<mark class=\"entity\" style=\"background: #9fc5e8; padding: 0.45em 0.6em; margin: 0 0.25em; line-height: 1; border-radius: 0.35em;\">\n",
              "    jegadeeshmanickamms\n",
              "    <span style=\"font-size: 0.8em; font-weight: bold; line-height: 1; border-radius: 0.35em; vertical-align: middle; margin-left: 0.5rem\">GPE</span>\n",
              "</mark>\n",
              ",doherebyconfirmthattheinformationgivenaboveistruetothebestofmyknowledge. place:coimbatoredate:01/07/2023(jegadeeshmanickamms)</div></span>"
            ]
          },
          "metadata": {}
        }
      ]
    },
    {
      "cell_type": "code",
      "source": [
        "colors = {\n",
        "    \"Job-Category\": \"linear-gradient(90deg, #aa9cfc, #fc9ce7)\",\n",
        "    \"SKILL\": \"linear-gradient(90deg, #9BE15D, #00E3AE)\",\n",
        "    \"ORG\": \"#ffd966\",\n",
        "    \"PERSON\": \"#e06666\",\n",
        "    \"GPE\": \"#9fc5e8\",\n",
        "    \"DATE\": \"#c27ba0\",\n",
        "    \"ORDINAL\": \"#674ea7\",\n",
        "    \"PRODUCT\": \"#f9cb9c\",\n",
        "}\n",
        "options = {\n",
        "    \"ents\": [\n",
        "        \"Job-Category\",\n",
        "        \"SKILL\",\n",
        "        \"ORG\",\n",
        "        \"PERSON\",\n",
        "        \"GPE\",\n",
        "        \"DATE\",\n",
        "        \"ORDINAL\",\n",
        "        \"PRODUCT\",\n",
        "    ],\n",
        "    \"colors\": colors,\n",
        "}"
      ],
      "metadata": {
        "id": "hLRTzAi-SEQ_"
      },
      "execution_count": null,
      "outputs": []
    },
    {
      "cell_type": "code",
      "source": [
        "sent2 = nlp(extracted_text)\n",
        "displacy.render(sent2, style=\"ent\", jupyter=True, options=options)"
      ],
      "metadata": {
        "colab": {
          "base_uri": "https://localhost:8080/",
          "height": 1000
        },
        "id": "HMMqg--gR8Nl",
        "outputId": "adfa7297-4de6-4771-8781-1e4da8df9f8d"
      },
      "execution_count": null,
      "outputs": [
        {
          "output_type": "display_data",
          "data": {
            "text/plain": [
              "<IPython.core.display.HTML object>"
            ],
            "text/html": [
              "<span class=\"tex2jax_ignore\"><div class=\"entities\" style=\"line-height: 2.5; direction: ltr\">\n",
              "<mark class=\"entity\" style=\"background: #e06666; padding: 0.45em 0.6em; margin: 0 0.25em; line-height: 1; border-radius: 0.35em;\">\n",
              "    JEGADEESHMANICKAMMS19PD15 GenderDateofBirthLanguag\n",
              "    <span style=\"font-size: 0.8em; font-weight: bold; line-height: 1; border-radius: 0.35em; vertical-align: middle; margin-left: 0.5rem\">PERSON</span>\n",
              "</mark>\n",
              " esknownEmailGithubLinkedInMobileMale3rdAugust2001English,Tamil19pd15@p \n",
              "<mark class=\"entity\" style=\"background: #e06666; padding: 0.45em 0.6em; margin: 0 0.25em; line-height: 1; border-radius: 0.35em;\">\n",
              "    sgtech.ac.ingithub.c om\n",
              "    <span style=\"font-size: 0.8em; font-weight: bold; line-height: 1; border-radius: 0.35em; vertical-align: middle; margin-left: 0.5rem\">PERSON</span>\n",
              "</mark>\n",
              "/jegadeesh2001linkedin.com/in/jeg adeesh+91-63749-27353 Address1/45,TWADColony,3rdstreet,Thirupalai,Madurai-625014 OBJECTIVE ToobtainapositionasastudentinternfromDecember2023toMay2024. ACADEMICQUALIFICATION Currentlypursuing5thyearofa5-yearIntegratedM.Sc.DataScienceattheDepartmen tofAppliedMathematicsandComput ationalSciencesatPSGCollegeofTechnology . \n",
              "<mark class=\"entity\" style=\"background: #ffd966; padding: 0.45em 0.6em; margin: 0 0.25em; line-height: 1; border-radius: 0.35em;\">\n",
              "    SKILLSET\n",
              "    <span style=\"font-size: 0.8em; font-weight: bold; line-height: 1; border-radius: 0.35em; vertical-align: middle; margin-left: 0.5rem\">ORG</span>\n",
              "</mark>\n",
              " \n",
              "<mark class=\"entity\" style=\"background: #e06666; padding: 0.45em 0.6em; margin: 0 0.25em; line-height: 1; border-radius: 0.35em;\">\n",
              "    Languag esPython\n",
              "    <span style=\"font-size: 0.8em; font-weight: bold; line-height: 1; border-radius: 0.35em; vertical-align: middle; margin-left: 0.5rem\">PERSON</span>\n",
              "</mark>\n",
              ",C++,C,\n",
              "<mark class=\"entity\" style=\"background: linear-gradient(90deg, #9BE15D, #00E3AE); padding: 0.45em 0.6em; margin: 0 0.25em; line-height: 1; border-radius: 0.35em;\">\n",
              "    R\n",
              "    <span style=\"font-size: 0.8em; font-weight: bold; line-height: 1; border-radius: 0.35em; vertical-align: middle; margin-left: 0.5rem\">SKILL</span>\n",
              "</mark>\n",
              ",\n",
              "<mark class=\"entity\" style=\"background: #ffd966; padding: 0.45em 0.6em; margin: 0 0.25em; line-height: 1; border-radius: 0.35em;\">\n",
              "    JavaScript Back-EndNodeJs\n",
              "    <span style=\"font-size: 0.8em; font-weight: bold; line-height: 1; border-radius: 0.35em; vertical-align: middle; margin-left: 0.5rem\">ORG</span>\n",
              "</mark>\n",
              ",\n",
              "<mark class=\"entity\" style=\"background: linear-gradient(90deg, #9BE15D, #00E3AE); padding: 0.45em 0.6em; margin: 0 0.25em; line-height: 1; border-radius: 0.35em;\">\n",
              "    PHP\n",
              "    <span style=\"font-size: 0.8em; font-weight: bold; line-height: 1; border-radius: 0.35em; vertical-align: middle; margin-left: 0.5rem\">SKILL</span>\n",
              "</mark>\n",
              ",\n",
              "<mark class=\"entity\" style=\"background: linear-gradient(90deg, #9BE15D, #00E3AE); padding: 0.45em 0.6em; margin: 0 0.25em; line-height: 1; border-radius: 0.35em;\">\n",
              "    SQL\n",
              "    <span style=\"font-size: 0.8em; font-weight: bold; line-height: 1; border-radius: 0.35em; vertical-align: middle; margin-left: 0.5rem\">SKILL</span>\n",
              "</mark>\n",
              ",\n",
              "<mark class=\"entity\" style=\"background: linear-gradient(90deg, #9BE15D, #00E3AE); padding: 0.45em 0.6em; margin: 0 0.25em; line-height: 1; border-radius: 0.35em;\">\n",
              "    MongoDB\n",
              "    <span style=\"font-size: 0.8em; font-weight: bold; line-height: 1; border-radius: 0.35em; vertical-align: middle; margin-left: 0.5rem\">SKILL</span>\n",
              "</mark>\n",
              ",CosmosDB PlatformWindows,\n",
              "<mark class=\"entity\" style=\"background: linear-gradient(90deg, #9BE15D, #00E3AE); padding: 0.45em 0.6em; margin: 0 0.25em; line-height: 1; border-radius: 0.35em;\">\n",
              "    Linux\n",
              "    <span style=\"font-size: 0.8em; font-weight: bold; line-height: 1; border-radius: 0.35em; vertical-align: middle; margin-left: 0.5rem\">SKILL</span>\n",
              "</mark>\n",
              " \n",
              "<mark class=\"entity\" style=\"background: #9fc5e8; padding: 0.45em 0.6em; margin: 0 0.25em; line-height: 1; border-radius: 0.35em;\">\n",
              "    ToolsTableau,Azure\n",
              "    <span style=\"font-size: 0.8em; font-weight: bold; line-height: 1; border-radius: 0.35em; vertical-align: middle; margin-left: 0.5rem\">GPE</span>\n",
              "</mark>\n",
              ",\n",
              "<mark class=\"entity\" style=\"background: #9fc5e8; padding: 0.45em 0.6em; margin: 0 0.25em; line-height: 1; border-radius: 0.35em;\">\n",
              "    AWS\n",
              "    <span style=\"font-size: 0.8em; font-weight: bold; line-height: 1; border-radius: 0.35em; vertical-align: middle; margin-left: 0.5rem\">GPE</span>\n",
              "</mark>\n",
              ",\n",
              "<mark class=\"entity\" style=\"background: #ffd966; padding: 0.45em 0.6em; margin: 0 0.25em; line-height: 1; border-radius: 0.35em;\">\n",
              "    PowerBI\n",
              "    <span style=\"font-size: 0.8em; font-weight: bold; line-height: 1; border-radius: 0.35em; vertical-align: middle; margin-left: 0.5rem\">ORG</span>\n",
              "</mark>\n",
              ",\n",
              "<mark class=\"entity\" style=\"background: #f9cb9c; padding: 0.45em 0.6em; margin: 0 0.25em; line-height: 1; border-radius: 0.35em;\">\n",
              "    Excel\n",
              "    <span style=\"font-size: 0.8em; font-weight: bold; line-height: 1; border-radius: 0.35em; vertical-align: middle; margin-left: 0.5rem\">PRODUCT</span>\n",
              "</mark>\n",
              ",\n",
              "<mark class=\"entity\" style=\"background: linear-gradient(90deg, #9BE15D, #00E3AE); padding: 0.45em 0.6em; margin: 0 0.25em; line-height: 1; border-radius: 0.35em;\">\n",
              "    Git\n",
              "    <span style=\"font-size: 0.8em; font-weight: bold; line-height: 1; border-radius: 0.35em; vertical-align: middle; margin-left: 0.5rem\">SKILL</span>\n",
              "</mark>\n",
              ",\n",
              "<mark class=\"entity\" style=\"background: linear-gradient(90deg, #9BE15D, #00E3AE); padding: 0.45em 0.6em; margin: 0 0.25em; line-height: 1; border-radius: 0.35em;\">\n",
              "    Flutter\n",
              "    <span style=\"font-size: 0.8em; font-weight: bold; line-height: 1; border-radius: 0.35em; vertical-align: middle; margin-left: 0.5rem\">SKILL</span>\n",
              "</mark>\n",
              ",Wireshark AREASOFINTEREST ●ObjectOrientedProgramming ●MachineLearning ●DeepLearning ●\n",
              "<mark class=\"entity\" style=\"background: #ffd966; padding: 0.45em 0.6em; margin: 0 0.25em; line-height: 1; border-radius: 0.35em;\">\n",
              "    DatabaseManagementSystem\n",
              "    <span style=\"font-size: 0.8em; font-weight: bold; line-height: 1; border-radius: 0.35em; vertical-align: middle; margin-left: 0.5rem\">ORG</span>\n",
              "</mark>\n",
              " ACADEMICRECORD ●M.ScDataSciencePSGCollegeofTechnology ,\n",
              "<mark class=\"entity\" style=\"background: #f9cb9c; padding: 0.45em 0.6em; margin: 0 0.25em; line-height: 1; border-radius: 0.35em;\">\n",
              "    Coimbatore2 0 1\n",
              "    <span style=\"font-size: 0.8em; font-weight: bold; line-height: 1; border-radius: 0.35em; vertical-align: middle; margin-left: 0.5rem\">PRODUCT</span>\n",
              "</mark>\n",
              " 9 - 2 0 2 48.45CGPA ●XII(HigherSecondary,CBSE)MahatmaCBSESchool,\n",
              "<mark class=\"entity\" style=\"background: #f9cb9c; padding: 0.45em 0.6em; margin: 0 0.25em; line-height: 1; border-radius: 0.35em;\">\n",
              "    Madurai2\n",
              "    <span style=\"font-size: 0.8em; font-weight: bold; line-height: 1; border-radius: 0.35em; vertical-align: middle; margin-left: 0.5rem\">PRODUCT</span>\n",
              "</mark>\n",
              " 0 1 993.00% ●X(SSLC,CBSE)MahatmaCBSESchool,\n",
              "<mark class=\"entity\" style=\"background: #f9cb9c; padding: 0.45em 0.6em; margin: 0 0.25em; line-height: 1; border-radius: 0.35em;\">\n",
              "    Madurai2\n",
              "    <span style=\"font-size: 0.8em; font-weight: bold; line-height: 1; border-radius: 0.35em; vertical-align: middle; margin-left: 0.5rem\">PRODUCT</span>\n",
              "</mark>\n",
              " 0 1 795.00% NON-ACADEMICPROJECTS ●AirSense,\n",
              "<mark class=\"entity\" style=\"background: #e06666; padding: 0.45em 0.6em; margin: 0 0.25em; line-height: 1; border-radius: 0.35em;\">\n",
              "    awebapplicationbuilttoforecasttheAirQualityIndexandTemperatureoftier-2citiesofTelanganaasapartofanacademicgrandchalleng econductedbytheTelanganagovernmen t.VariousstatisticaltimeseriesmodelswerefittedforeachcityandthebestmodelwasselectedusingRMSEtogenerateforecastsfortheupcomingyear\n",
              "    <span style=\"font-size: 0.8em; font-weight: bold; line-height: 1; border-radius: 0.35em; vertical-align: middle; margin-left: 0.5rem\">PERSON</span>\n",
              "</mark>\n",
              ".ThefrontendoftheapplicationwasbuiltusingstreamlitandtheAPIendpoin tswasdefinedusingFlaskwhichwasdeployedinanAWSEC2instance.●Clima,anapplicationbuiltusingFluttertodetectthetemperatureofthecurrentcityoranygivencitybyusingAPIcallstoOpenWeatherMap.\n",
              "<mark class=\"entity\" style=\"background: #ffd966; padding: 0.45em 0.6em; margin: 0 0.25em; line-height: 1; border-radius: 0.35em;\">\n",
              "    Weatherdatafetchedbytheapplicationisrefreshedwhentheusergivesinputoropenstheapplication\n",
              "    <span style=\"font-size: 0.8em; font-weight: bold; line-height: 1; border-radius: 0.35em; vertical-align: middle; margin-left: 0.5rem\">ORG</span>\n",
              "</mark>\n",
              ". INDUSTRYEXPERIENCE ●Buckman|DataAnalyst(Jun2022-Dec2022)Connect edPlanning ,workedonforecastingthecustomerdemandfordifferentchemicalproductsattheproductionlevelandsaleslevelusingvarioustimeseriesmodelsbasedonhistoricalpurchasedata.Thesolutionhelpedinefficientinventoryandsalesmanagementwithincreasedforecastingaccuracy. ACADEMICPROJECTS ●\n",
              "<mark class=\"entity\" style=\"background: #ffd966; padding: 0.45em 0.6em; margin: 0 0.25em; line-height: 1; border-radius: 0.35em;\">\n",
              "    PicPhrase\n",
              "    <span style=\"font-size: 0.8em; font-weight: bold; line-height: 1; border-radius: 0.35em; vertical-align: middle; margin-left: 0.5rem\">ORG</span>\n",
              "</mark>\n",
              ",\n",
              "<mark class=\"entity\" style=\"background: #e06666; padding: 0.45em 0.6em; margin: 0 0.25em; line-height: 1; border-radius: 0.35em;\">\n",
              "    astreamlitapplicationdevelopedtounderstandthevisualsurroundingbycaptioningtheimagegivenbytheuser\n",
              "    <span style=\"font-size: 0.8em; font-weight: bold; line-height: 1; border-radius: 0.35em; vertical-align: middle; margin-left: 0.5rem\">PERSON</span>\n",
              "</mark>\n",
              ".Thecaptioningoftheimagewasbasedonanencoder-decodermodeltrainedusingCNNandLSTM.FeaturesfromtheimagewereextractedusingCNNandpassedontoLSTMforsentenceconstruction.TheextractedcaptionwasreadouttotheuserusingSpeechtoTextAPIfromGoogle. ●\n",
              "<mark class=\"entity\" style=\"background: #ffd966; padding: 0.45em 0.6em; margin: 0 0.25em; line-height: 1; border-radius: 0.35em;\">\n",
              "    MedSnap\n",
              "    <span style=\"font-size: 0.8em; font-weight: bold; line-height: 1; border-radius: 0.35em; vertical-align: middle; margin-left: 0.5rem\">ORG</span>\n",
              "</mark>\n",
              ",\n",
              "<mark class=\"entity\" style=\"background: #ffd966; padding: 0.45em 0.6em; margin: 0 0.25em; line-height: 1; border-radius: 0.35em;\">\n",
              "    astreamlitapplicationdevelopedtoextractessentialinformationfromtabletimagesgivenbyuser\n",
              "    <span style=\"font-size: 0.8em; font-weight: bold; line-height: 1; border-radius: 0.35em; vertical-align: middle; margin-left: 0.5rem\">ORG</span>\n",
              "</mark>\n",
              ".AnnotateddatarepositorywascreatedbyscrapingtabletimagesfromwebusingBeautifulSoupandthecorrespondingtextwasextractedusingPaddleOCR.ThefinalannotationofthetextfromimagewasbasedonNamedEntityRecognitionmodeltrainedusingspacy. ●Sentimetrics,implemen \n",
              "<mark class=\"entity\" style=\"background: #ffd966; padding: 0.45em 0.6em; margin: 0 0.25em; line-height: 1; border-radius: 0.35em;\">\n",
              "    tedbyfittingNaiveBayes\n",
              "    <span style=\"font-size: 0.8em; font-weight: bold; line-height: 1; border-radius: 0.35em; vertical-align: middle; margin-left: 0.5rem\">ORG</span>\n",
              "</mark>\n",
              ",\n",
              "<mark class=\"entity\" style=\"background: #ffd966; padding: 0.45em 0.6em; margin: 0 0.25em; line-height: 1; border-radius: 0.35em;\">\n",
              "    Perceptron\n",
              "    <span style=\"font-size: 0.8em; font-weight: bold; line-height: 1; border-radius: 0.35em; vertical-align: middle; margin-left: 0.5rem\">ORG</span>\n",
              "</mark>\n",
              ",\n",
              "<mark class=\"entity\" style=\"background: #ffd966; padding: 0.45em 0.6em; margin: 0 0.25em; line-height: 1; border-radius: 0.35em;\">\n",
              "    SVM\n",
              "    <span style=\"font-size: 0.8em; font-weight: bold; line-height: 1; border-radius: 0.35em; vertical-align: middle; margin-left: 0.5rem\">ORG</span>\n",
              "</mark>\n",
              ",andLogisticRegressiononthesentiment-140dataset.Fromtheabove-fittedmodels,\n",
              "<mark class=\"entity\" style=\"background: #ffd966; padding: 0.45em 0.6em; margin: 0 0.25em; line-height: 1; border-radius: 0.35em;\">\n",
              "    LogisticRegressionwaschosenasthebestmodelbasedonevaluationmeasures\n",
              "    <span style=\"font-size: 0.8em; font-weight: bold; line-height: 1; border-radius: 0.35em; vertical-align: middle; margin-left: 0.5rem\">ORG</span>\n",
              "</mark>\n",
              ".Themodelhasbeendeployedusingstreamlittopredictwhetheragiventweetispositiveornegative. ●\n",
              "<mark class=\"entity\" style=\"background: #ffd966; padding: 0.45em 0.6em; margin: 0 0.25em; line-height: 1; border-radius: 0.35em;\">\n",
              "    RemoteControl\n",
              "    <span style=\"font-size: 0.8em; font-weight: bold; line-height: 1; border-radius: 0.35em; vertical-align: middle; margin-left: 0.5rem\">ORG</span>\n",
              "</mark>\n",
              ",implemen tedusingTCPsocketstocontroltheclientfromtheserversystem.\n",
              "<mark class=\"entity\" style=\"background: #e06666; padding: 0.45em 0.6em; margin: 0 0.25em; line-height: 1; border-radius: 0.35em;\">\n",
              "    Byusinguser-definedcommandstheclient’skeylogsandscreenshotsofthepagecanbecapturedandfilescanbesenttotheclientandothershellcommandscanbeexecuted\n",
              "    <span style=\"font-size: 0.8em; font-weight: bold; line-height: 1; border-radius: 0.35em; vertical-align: middle; margin-left: 0.5rem\">PERSON</span>\n",
              "</mark>\n",
              ". ●AviationAcciden ts,acasestudyanalysisdoneinPythonusingPlotly,\n",
              "<mark class=\"entity\" style=\"background: #ffd966; padding: 0.45em 0.6em; margin: 0 0.25em; line-height: 1; border-radius: 0.35em;\">\n",
              "    Seaborn\n",
              "    <span style=\"font-size: 0.8em; font-weight: bold; line-height: 1; border-radius: 0.35em; vertical-align: middle; margin-left: 0.5rem\">ORG</span>\n",
              "</mark>\n",
              ",\n",
              "<mark class=\"entity\" style=\"background: #e06666; padding: 0.45em 0.6em; margin: 0 0.25em; line-height: 1; border-radius: 0.35em;\">\n",
              "    andMatplotlibtoanalyzethecauseandthelocationofairplanecrashes\n",
              "    <span style=\"font-size: 0.8em; font-weight: bold; line-height: 1; border-radius: 0.35em; vertical-align: middle; margin-left: 0.5rem\">PERSON</span>\n",
              "</mark>\n",
              ".GroupingofsimilarcausestocrashwasdonebyK-meansClustering.\n",
              "<mark class=\"entity\" style=\"background: #e06666; padding: 0.45em 0.6em; margin: 0 0.25em; line-height: 1; border-radius: 0.35em;\">\n",
              "    ADashboar dwascreatedusingDashtodisplaythecharts\n",
              "    <span style=\"font-size: 0.8em; font-weight: bold; line-height: 1; border-radius: 0.35em; vertical-align: middle; margin-left: 0.5rem\">PERSON</span>\n",
              "</mark>\n",
              ". EXTRA-CURRICULARACTIVITIESANDACHIEVEMENT S ●Runner-upinintra-collegehackathonconductedbythecodingclubatPSGCollegeofTechnology . ●\n",
              "<mark class=\"entity\" style=\"background: #e06666; padding: 0.45em 0.6em; margin: 0 0.25em; line-height: 1; border-radius: 0.35em;\">\n",
              "    TheteamwasselectedasoneoftheTop60teamsacrossthecountryinagrandacademicchalleng econductedbytheTelanganagovernmen t. ●CompletedFlutter-CompleteBootcamp\n",
              "    <span style=\"font-size: 0.8em; font-weight: bold; line-height: 1; border-radius: 0.35em; vertical-align: middle; margin-left: 0.5rem\">PERSON</span>\n",
              "</mark>\n",
              ",acourseofferedbyUdemyinJuly2021. ●MemberoftheEntrepreneur’sClubatPSGCollegeofTechnology . DECLARATION I,\n",
              "<mark class=\"entity\" style=\"background: #9fc5e8; padding: 0.45em 0.6em; margin: 0 0.25em; line-height: 1; border-radius: 0.35em;\">\n",
              "    JegadeeshManickamMS\n",
              "    <span style=\"font-size: 0.8em; font-weight: bold; line-height: 1; border-radius: 0.35em; vertical-align: middle; margin-left: 0.5rem\">GPE</span>\n",
              "</mark>\n",
              ",doherebyconfirmthattheinformationgivenaboveistruetothebestofmyknowledge. Place:CoimbatoreDate:01/07/2023(JegadeeshManickamMS)</div></span>"
            ]
          },
          "metadata": {}
        }
      ]
    },
    {
      "cell_type": "code",
      "source": [
        "extracted_text"
      ],
      "metadata": {
        "colab": {
          "base_uri": "https://localhost:8080/",
          "height": 140
        },
        "id": "WbBedo4SP-nQ",
        "outputId": "625e6e39-2ed4-411c-bf6d-ec310822b682"
      },
      "execution_count": null,
      "outputs": [
        {
          "output_type": "execute_result",
          "data": {
            "text/plain": [
              "'JEGADEESHMANICKAMMS19PD15 GenderDateofBirthLanguag esknownEmailGithubLinkedInMobileMale3rdAugust2001English,Tamil19pd15@p sgtech.ac.ingithub.c om/jegadeesh2001linkedin.com/in/jeg adeesh+91-63749-27353 Address1/45,TWADColony,3rdstreet,Thirupalai,Madurai-625014 OBJECTIVE ToobtainapositionasastudentinternfromDecember2023toMay2024. ACADEMICQUALIFICATION Currentlypursuing5thyearofa5-yearIntegratedM.Sc.DataScienceattheDepartmen tofAppliedMathematicsandComput ationalSciencesatPSGCollegeofTechnology . SKILLSET Languag esPython,C++,C,R,JavaScript Back-EndNodeJs,PHP,SQL,MongoDB,CosmosDB PlatformWindows,Linux ToolsTableau,Azure,AWS,PowerBI,Excel,Git,Flutter,Wireshark AREASOFINTEREST ●ObjectOrientedProgramming ●MachineLearning ●DeepLearning ●DatabaseManagementSystem ACADEMICRECORD ●M.ScDataSciencePSGCollegeofTechnology ,Coimbatore2 0 1 9 - 2 0 2 48.45CGPA ●XII(HigherSecondary,CBSE)MahatmaCBSESchool,Madurai2 0 1 993.00% ●X(SSLC,CBSE)MahatmaCBSESchool,Madurai2 0 1 795.00% NON-ACADEMICPROJECTS ●AirSense,awebapplicationbuilttoforecasttheAirQualityIndexandTemperatureoftier-2citiesofTelanganaasapartofanacademicgrandchalleng econductedbytheTelanganagovernmen t.VariousstatisticaltimeseriesmodelswerefittedforeachcityandthebestmodelwasselectedusingRMSEtogenerateforecastsfortheupcomingyear.ThefrontendoftheapplicationwasbuiltusingstreamlitandtheAPIendpoin tswasdefinedusingFlaskwhichwasdeployedinanAWSEC2instance.●Clima,anapplicationbuiltusingFluttertodetectthetemperatureofthecurrentcityoranygivencitybyusingAPIcallstoOpenWeatherMap.Weatherdatafetchedbytheapplicationisrefreshedwhentheusergivesinputoropenstheapplication. INDUSTRYEXPERIENCE ●Buckman|DataAnalyst(Jun2022-Dec2022)Connect edPlanning ,workedonforecastingthecustomerdemandfordifferentchemicalproductsattheproductionlevelandsaleslevelusingvarioustimeseriesmodelsbasedonhistoricalpurchasedata.Thesolutionhelpedinefficientinventoryandsalesmanagementwithincreasedforecastingaccuracy. ACADEMICPROJECTS ●PicPhrase,astreamlitapplicationdevelopedtounderstandthevisualsurroundingbycaptioningtheimagegivenbytheuser.Thecaptioningoftheimagewasbasedonanencoder-decodermodeltrainedusingCNNandLSTM.FeaturesfromtheimagewereextractedusingCNNandpassedontoLSTMforsentenceconstruction.TheextractedcaptionwasreadouttotheuserusingSpeechtoTextAPIfromGoogle. ●MedSnap,astreamlitapplicationdevelopedtoextractessentialinformationfromtabletimagesgivenbyuser.AnnotateddatarepositorywascreatedbyscrapingtabletimagesfromwebusingBeautifulSoupandthecorrespondingtextwasextractedusingPaddleOCR.ThefinalannotationofthetextfromimagewasbasedonNamedEntityRecognitionmodeltrainedusingspacy. ●Sentimetrics,implemen tedbyfittingNaiveBayes,Perceptron,SVM,andLogisticRegressiononthesentiment-140dataset.Fromtheabove-fittedmodels,LogisticRegressionwaschosenasthebestmodelbasedonevaluationmeasures.Themodelhasbeendeployedusingstreamlittopredictwhetheragiventweetispositiveornegative. ●RemoteControl,implemen tedusingTCPsocketstocontroltheclientfromtheserversystem.Byusinguser-definedcommandstheclient’skeylogsandscreenshotsofthepagecanbecapturedandfilescanbesenttotheclientandothershellcommandscanbeexecuted. ●AviationAcciden ts,acasestudyanalysisdoneinPythonusingPlotly,Seaborn,andMatplotlibtoanalyzethecauseandthelocationofairplanecrashes.GroupingofsimilarcausestocrashwasdonebyK-meansClustering.ADashboar dwascreatedusingDashtodisplaythecharts. EXTRA-CURRICULARACTIVITIESANDACHIEVEMENT S ●Runner-upinintra-collegehackathonconductedbythecodingclubatPSGCollegeofTechnology . ●TheteamwasselectedasoneoftheTop60teamsacrossthecountryinagrandacademicchalleng econductedbytheTelanganagovernmen t. ●CompletedFlutter-CompleteBootcamp,acourseofferedbyUdemyinJuly2021. ●MemberoftheEntrepreneur’sClubatPSGCollegeofTechnology . DECLARATION I,JegadeeshManickamMS,doherebyconfirmthattheinformationgivenaboveistruetothebestofmyknowledge. Place:CoimbatoreDate:01/07/2023(JegadeeshManickamMS)'"
            ],
            "application/vnd.google.colaboratory.intrinsic+json": {
              "type": "string"
            }
          },
          "metadata": {},
          "execution_count": 39
        }
      ]
    },
    {
      "cell_type": "code",
      "source": [
        "resume_skills = unique_skills(get_skills(extracted_text.lower()))"
      ],
      "metadata": {
        "id": "lwxrgTXyRWbN"
      },
      "execution_count": null,
      "outputs": []
    },
    {
      "cell_type": "code",
      "source": [
        "get_skills(extracted_text.lower())"
      ],
      "metadata": {
        "colab": {
          "base_uri": "https://localhost:8080/"
        },
        "id": "_AmvTFV6Sa1S",
        "outputId": "d67c4235-ce6c-42b1-a144-21ae27b00ba0"
      },
      "execution_count": null,
      "outputs": [
        {
          "output_type": "execute_result",
          "data": {
            "text/plain": [
              "['javascript', 'mongodb', 'git', 'flutter']"
            ]
          },
          "metadata": {},
          "execution_count": 32
        }
      ]
    },
    {
      "cell_type": "code",
      "source": [
        "resume_skills"
      ],
      "metadata": {
        "colab": {
          "base_uri": "https://localhost:8080/"
        },
        "id": "qR6YReD8RdQM",
        "outputId": "d67d2ca4-1f3a-4258-bfcd-c73951e273af"
      },
      "execution_count": null,
      "outputs": [
        {
          "output_type": "execute_result",
          "data": {
            "text/plain": [
              "['flutter', 'mongodb', 'git', 'javascript']"
            ]
          },
          "metadata": {},
          "execution_count": 26
        }
      ]
    },
    {
      "cell_type": "code",
      "source": [
        "resume_skills = unique_skills(get_skills(extracted_text.lower()))\n",
        "score = 0\n",
        "for x in req_skills:\n",
        "    if x in resume_skills:\n",
        "        score += 1\n",
        "req_skills_len = len(req_skills)\n",
        "match = round(score / req_skills_len * 100, 1)\n",
        "\n",
        "print(f\"The current Resume is {match}% matched to your requirements\")"
      ],
      "metadata": {
        "id": "6WTY0aA7Oy11"
      },
      "execution_count": null,
      "outputs": []
    }
  ]
}